{
 "cells": [
  {
   "cell_type": "code",
   "execution_count": 1,
   "metadata": {
    "colab": {
     "base_uri": "https://localhost:8080/"
    },
    "id": "pMWlaShvJv_w",
    "outputId": "01ea61d3-9514-4e6b-f385-6bf94e65e427"
   },
   "outputs": [
    {
     "name": "stdout",
     "output_type": "stream",
     "text": [
      "Mounted at /content/drive\n"
     ]
    }
   ],
   "source": [
    "from google.colab import drive\n",
    "drive.mount('/content/drive')"
   ]
  },
  {
   "cell_type": "code",
   "execution_count": 2,
   "metadata": {
    "id": "JZtpsMtpJr5i"
   },
   "outputs": [],
   "source": [
    "import numpy as np\n",
    "import pandas as pd\n",
    "import os\n",
    "\n",
    "def pre_procces(data_file, cv_file, label_file):\n",
    "    my_data = pd.read_csv(data_file, delimiter='*', header=None)\n",
    "    train_data = pd.read_csv(cv_file, delimiter='*', header=None)\n",
    "    my_label = pd.read_csv(label_file, header=None)\n",
    "    \n",
    "    train_data.columns = ['cv1', 'cv2']\n",
    "    my_data['label'] = my_label\n",
    "    my_data.columns = ['m1', 'm2', 'label']\n",
    "    \n",
    "    train_data['m1'], train_data['m2'], train_data['label'] = my_data['m1'], my_data['m1'], my_data['label']\n",
    "    print(train_data.isnull().values.any())\n",
    "    train_data.drop(train_data.index[train_data['label'] == '@#$%'], inplace = True)\n",
    "    train_data.drop(train_data.index[train_data['label'] == '*'], inplace = True)\n",
    "    print(train_data.isnull().values.any())\n",
    "    return train_data"
   ]
  },
  {
   "cell_type": "code",
   "execution_count": 3,
   "metadata": {
    "colab": {
     "base_uri": "https://localhost:8080/",
     "height": 453
    },
    "id": "waMa5zt4Jr5p",
    "outputId": "b9cc5f2e-31a7-4a5e-ce4b-01337f13dda3"
   },
   "outputs": [
    {
     "name": "stdout",
     "output_type": "stream",
     "text": [
      "True\n",
      "False\n"
     ]
    },
    {
     "data": {
      "text/html": [
       "<div>\n",
       "<style scoped>\n",
       "    .dataframe tbody tr th:only-of-type {\n",
       "        vertical-align: middle;\n",
       "    }\n",
       "\n",
       "    .dataframe tbody tr th {\n",
       "        vertical-align: top;\n",
       "    }\n",
       "\n",
       "    .dataframe thead th {\n",
       "        text-align: right;\n",
       "    }\n",
       "</style>\n",
       "<table border=\"1\" class=\"dataframe\">\n",
       "  <thead>\n",
       "    <tr style=\"text-align: right;\">\n",
       "      <th></th>\n",
       "      <th>cv1</th>\n",
       "      <th>cv2</th>\n",
       "      <th>m1</th>\n",
       "      <th>m2</th>\n",
       "      <th>label</th>\n",
       "    </tr>\n",
       "  </thead>\n",
       "  <tbody>\n",
       "    <tr>\n",
       "      <th>0</th>\n",
       "      <td>cvccvvccvcvccvcccvcvvcvvccvcvvcvcvc</td>\n",
       "      <td>cvvcvcccvcvccvvcvccvvcvccvcvvccvvc</td>\n",
       "      <td>--UU--UU--UU--</td>\n",
       "      <td>--UU--UU--UU--</td>\n",
       "      <td>1003</td>\n",
       "    </tr>\n",
       "    <tr>\n",
       "      <th>1</th>\n",
       "      <td>cvvccvvcvccvcvcvvcvcccvcvccvvccvcvc</td>\n",
       "      <td>cvvvcvvcvvcvccvccvvcvcvvcvvccvcvc</td>\n",
       "      <td>UU--UU--UU--UU-</td>\n",
       "      <td>UU--UU--UU--UU-</td>\n",
       "      <td>1001</td>\n",
       "    </tr>\n",
       "    <tr>\n",
       "      <th>2</th>\n",
       "      <td>cvccvcvccvcccvcvccvccvcvccvccvcvcvcvvc</td>\n",
       "      <td>cvccvcvvccvcvvcvccvcvcvvcvvccvcvc</td>\n",
       "      <td>UU--UU--UU--UU-</td>\n",
       "      <td>UU--UU--UU--UU-</td>\n",
       "      <td>1001</td>\n",
       "    </tr>\n",
       "    <tr>\n",
       "      <th>3</th>\n",
       "      <td>cvcvcccvccvccvccvcccvccvcvccvccvccvvc</td>\n",
       "      <td>cvvcvvccvvcvccvvcvccvvccvvcvcvvcvcvcvvcvc</td>\n",
       "      <td>-U---U---U---U-</td>\n",
       "      <td>-U---U---U---U-</td>\n",
       "      <td>1014</td>\n",
       "    </tr>\n",
       "    <tr>\n",
       "      <th>4</th>\n",
       "      <td>cvcvcvvcvcvccvcvccvccvcvcvvcvvccvcvccvc</td>\n",
       "      <td>cvcvcvccvccvccvcvccvvvcvcvvcvvcvcvcvvc</td>\n",
       "      <td>UU--UU--UU--UU-</td>\n",
       "      <td>UU--UU--UU--UU-</td>\n",
       "      <td>1025</td>\n",
       "    </tr>\n",
       "    <tr>\n",
       "      <th>...</th>\n",
       "      <td>...</td>\n",
       "      <td>...</td>\n",
       "      <td>...</td>\n",
       "      <td>...</td>\n",
       "      <td>...</td>\n",
       "    </tr>\n",
       "    <tr>\n",
       "      <th>919</th>\n",
       "      <td>cvccvcvvcvccvcvcvvcvvccvcvcvcvvccvcvv</td>\n",
       "      <td>cvvcvcvccvcvccvcvcvccvcvccvcvcvcvcvvc</td>\n",
       "      <td>UU--UU--UU--UU-</td>\n",
       "      <td>UU--UU--UU--UU-</td>\n",
       "      <td>1001</td>\n",
       "    </tr>\n",
       "    <tr>\n",
       "      <th>920</th>\n",
       "      <td>cvccvcvcvcvvccvcvccvcccvccvccvvccvcvc</td>\n",
       "      <td>cvvcvccvvcvccvcvcvccvvcvccvvcvccvcvcvc</td>\n",
       "      <td>-UU--UU--UU--UU-</td>\n",
       "      <td>-UU--UU--UU--UU-</td>\n",
       "      <td>1024</td>\n",
       "    </tr>\n",
       "    <tr>\n",
       "      <th>921</th>\n",
       "      <td>cvccvcvcvcccvcvccvvcvcvcvccvccvcvc</td>\n",
       "      <td>cvcvcvccvcvcvcvcvvcvvccvcvcvccvccvvcvc</td>\n",
       "      <td>-UU--U--UU--U-</td>\n",
       "      <td>-UU--U--UU--U-</td>\n",
       "      <td>1001</td>\n",
       "    </tr>\n",
       "    <tr>\n",
       "      <th>922</th>\n",
       "      <td>cvvcvvcvcvccvcvvvcvvcvccvvcvccvcvccvc</td>\n",
       "      <td>cvccvvcvcvccvcvvcvcvcccvcvccvcvccvc</td>\n",
       "      <td>--U-U----U-U--</td>\n",
       "      <td>--U-U----U-U--</td>\n",
       "      <td>1007</td>\n",
       "    </tr>\n",
       "    <tr>\n",
       "      <th>923</th>\n",
       "      <td>cvcvcvccvcvvccvvvcvcvvcvvcvccvvccvv</td>\n",
       "      <td>cvvcvvcvvcvcvvcvvvcvvcvvccvvcvcvvc</td>\n",
       "      <td>--U-U-UU--U-U-</td>\n",
       "      <td>--U-U-UU--U-U-</td>\n",
       "      <td>1003</td>\n",
       "    </tr>\n",
       "  </tbody>\n",
       "</table>\n",
       "<p>910 rows × 5 columns</p>\n",
       "</div>"
      ],
      "text/plain": [
       "                                         cv1  ... label\n",
       "0        cvccvvccvcvccvcccvcvvcvvccvcvvcvcvc  ...  1003\n",
       "1        cvvccvvcvccvcvcvvcvcccvcvccvvccvcvc  ...  1001\n",
       "2     cvccvcvccvcccvcvccvccvcvccvccvcvcvcvvc  ...  1001\n",
       "3      cvcvcccvccvccvccvcccvccvcvccvccvccvvc  ...  1014\n",
       "4    cvcvcvvcvcvccvcvccvccvcvcvvcvvccvcvccvc  ...  1025\n",
       "..                                       ...  ...   ...\n",
       "919    cvccvcvvcvccvcvcvvcvvccvcvcvcvvccvcvv  ...  1001\n",
       "920    cvccvcvcvcvvccvcvccvcccvccvccvvccvcvc  ...  1024\n",
       "921       cvccvcvcvcccvcvccvvcvcvcvccvccvcvc  ...  1001\n",
       "922    cvvcvvcvcvccvcvvvcvvcvccvvcvccvcvccvc  ...  1007\n",
       "923      cvcvcvccvcvvccvvvcvcvvcvvcvccvvccvv  ...  1003\n",
       "\n",
       "[910 rows x 5 columns]"
      ]
     },
     "execution_count": 3,
     "metadata": {},
     "output_type": "execute_result"
    }
   ],
   "source": [
    "data = '/content/drive/MyDrive/Dataset/NLP/HW6 - Arooz/Arooz-v2.00/Data/DSUSTrn-v2.00.txt'\n",
    "label = '/content/drive/MyDrive/Dataset/NLP/HW6 - Arooz/Arooz-v2.00/Data/DSATrn-v2.00.txt'\n",
    "cv = '/content/drive/MyDrive/Dataset/NLP/HW6 - Arooz/Arooz-v2.00/Data/DSCVTrn-v2.00.txt'\n",
    "\n",
    "clean_data = pre_procces(data, cv, label)\n",
    "clean_data"
   ]
  },
  {
   "cell_type": "code",
   "execution_count": 4,
   "metadata": {
    "colab": {
     "base_uri": "https://localhost:8080/",
     "height": 453
    },
    "id": "A4IWa1azJr5s",
    "outputId": "313943e6-606d-4c85-d578-e222b0ddf3dd"
   },
   "outputs": [
    {
     "name": "stdout",
     "output_type": "stream",
     "text": [
      "True\n",
      "False\n"
     ]
    },
    {
     "data": {
      "text/html": [
       "<div>\n",
       "<style scoped>\n",
       "    .dataframe tbody tr th:only-of-type {\n",
       "        vertical-align: middle;\n",
       "    }\n",
       "\n",
       "    .dataframe tbody tr th {\n",
       "        vertical-align: top;\n",
       "    }\n",
       "\n",
       "    .dataframe thead th {\n",
       "        text-align: right;\n",
       "    }\n",
       "</style>\n",
       "<table border=\"1\" class=\"dataframe\">\n",
       "  <thead>\n",
       "    <tr style=\"text-align: right;\">\n",
       "      <th></th>\n",
       "      <th>cv1</th>\n",
       "      <th>cv2</th>\n",
       "      <th>m1</th>\n",
       "      <th>m2</th>\n",
       "      <th>label</th>\n",
       "    </tr>\n",
       "  </thead>\n",
       "  <tbody>\n",
       "    <tr>\n",
       "      <th>0</th>\n",
       "      <td>cvccvvcvcvcvvccvvcvcvccvvcvc</td>\n",
       "      <td>cvccvccvcvvcvcvvccvcvccvvcvc</td>\n",
       "      <td>--UU-U-U---</td>\n",
       "      <td>--UU-U-U---</td>\n",
       "      <td>1029</td>\n",
       "    </tr>\n",
       "    <tr>\n",
       "      <th>1</th>\n",
       "      <td>cvcvvcvcvcvccvcvvcvcvcvccvcvcvcvcvvc</td>\n",
       "      <td>cvcvvcvcvvcvccvccvvcvcvccvcvvcvcvcvvc</td>\n",
       "      <td>U--UU--UU--UU--</td>\n",
       "      <td>U--UU--UU--UU--</td>\n",
       "      <td>1002</td>\n",
       "    </tr>\n",
       "    <tr>\n",
       "      <th>2</th>\n",
       "      <td>cvccvvccvcvcvcvvcvcvcvcvcvvcvcvcccvv</td>\n",
       "      <td>cvccvcccvcvcvcvvcvcvcvcvcvvcvcvcvvcvvc</td>\n",
       "      <td>--U-U-UU--U-U-</td>\n",
       "      <td>--U-U-UU--U-U-</td>\n",
       "      <td>1003</td>\n",
       "    </tr>\n",
       "    <tr>\n",
       "      <th>3</th>\n",
       "      <td>cvcvvcvvcvcvcvvccvcvccvcccvcvvcvvc</td>\n",
       "      <td>cvcvvcvvccvvcvvccvcvccvvcvcvcvvcvvc</td>\n",
       "      <td>U--UU--UU--UU--</td>\n",
       "      <td>U--UU--UU--UU--</td>\n",
       "      <td>1027</td>\n",
       "    </tr>\n",
       "    <tr>\n",
       "      <th>4</th>\n",
       "      <td>cvccvccvvcvccvcccvcvccvcccvcvvccvcvcvc</td>\n",
       "      <td>cvvccvcvvcvvcvcvcvccvvcvcvcvvcvvcvccvc</td>\n",
       "      <td>-UU--UU--UU--UU-</td>\n",
       "      <td>-UU--UU--UU--UU-</td>\n",
       "      <td>1024</td>\n",
       "    </tr>\n",
       "    <tr>\n",
       "      <th>...</th>\n",
       "      <td>...</td>\n",
       "      <td>...</td>\n",
       "      <td>...</td>\n",
       "      <td>...</td>\n",
       "      <td>...</td>\n",
       "    </tr>\n",
       "    <tr>\n",
       "      <th>391</th>\n",
       "      <td>cvccvccvccvcvcvcvcvvcvccvccvcvc</td>\n",
       "      <td>cvccvccvcvccvcvvcvccvcvcvcvcvccvcvv</td>\n",
       "      <td>--U-U-UU--U-U-</td>\n",
       "      <td>--U-U-UU--U-U-</td>\n",
       "      <td>1003</td>\n",
       "    </tr>\n",
       "    <tr>\n",
       "      <th>392</th>\n",
       "      <td>cvcvvcvvcvcccvccvcvvcvvcvvcvv</td>\n",
       "      <td>cvcvcvcvcvcvcvcvccvvcvvcvv</td>\n",
       "      <td>U---U---U--</td>\n",
       "      <td>U---U---U--</td>\n",
       "      <td>1023</td>\n",
       "    </tr>\n",
       "    <tr>\n",
       "      <th>393</th>\n",
       "      <td>cvcvcvcvvcvcvvcvccvccvvcvcvc</td>\n",
       "      <td>cvcvvcvvccvvcvvcvcvvcvvcvvcvv</td>\n",
       "      <td>UU--U-U-UU-</td>\n",
       "      <td>UU--U-U-UU-</td>\n",
       "      <td>1023</td>\n",
       "    </tr>\n",
       "    <tr>\n",
       "      <th>394</th>\n",
       "      <td>cvcccvvcvcvvcvvcvcvvcvvcvcvvc</td>\n",
       "      <td>cvcvccvvcvccvccvcvvcvvcvvcvv</td>\n",
       "      <td>U--U--U--U--</td>\n",
       "      <td>U--U--U--U--</td>\n",
       "      <td>1023</td>\n",
       "    </tr>\n",
       "    <tr>\n",
       "      <th>395</th>\n",
       "      <td>cvcvcvvcvcvvcvccvcvvcvvcvccvc</td>\n",
       "      <td>cvcvvcvvcvvcvvcvvcvcvvcvvcvvcvv</td>\n",
       "      <td>U--U--U--U-</td>\n",
       "      <td>U--U--U--U-</td>\n",
       "      <td>1023</td>\n",
       "    </tr>\n",
       "  </tbody>\n",
       "</table>\n",
       "<p>387 rows × 5 columns</p>\n",
       "</div>"
      ],
      "text/plain": [
       "                                        cv1  ... label\n",
       "0              cvccvvcvcvcvvccvvcvcvccvvcvc  ...  1029\n",
       "1      cvcvvcvcvcvccvcvvcvcvcvccvcvcvcvcvvc  ...  1002\n",
       "2      cvccvvccvcvcvcvvcvcvcvcvcvvcvcvcccvv  ...  1003\n",
       "3        cvcvvcvvcvcvcvvccvcvccvcccvcvvcvvc  ...  1027\n",
       "4    cvccvccvvcvccvcccvcvccvcccvcvvccvcvcvc  ...  1024\n",
       "..                                      ...  ...   ...\n",
       "391         cvccvccvccvcvcvcvcvvcvccvccvcvc  ...  1003\n",
       "392           cvcvvcvvcvcccvccvcvvcvvcvvcvv  ...  1023\n",
       "393            cvcvcvcvvcvcvvcvccvccvvcvcvc  ...  1023\n",
       "394           cvcccvvcvcvvcvvcvcvvcvvcvcvvc  ...  1023\n",
       "395           cvcvcvvcvcvvcvccvcvvcvvcvccvc  ...  1023\n",
       "\n",
       "[387 rows x 5 columns]"
      ]
     },
     "execution_count": 4,
     "metadata": {},
     "output_type": "execute_result"
    }
   ],
   "source": [
    "data_tst = '/content/drive/MyDrive/Dataset/NLP/HW6 - Arooz/Arooz-v2.00/Data/DSUSTst-v2.00.txt'\n",
    "label_tst = '/content/drive/MyDrive/Dataset/NLP/HW6 - Arooz/Arooz-v2.00/Data/DSATst-v2.00.txt'\n",
    "cv_tst = '/content/drive/MyDrive/Dataset/NLP/HW6 - Arooz/Arooz-v2.00/Data/DSCVTst-v2.00.txt'\n",
    "\n",
    "clean_data_tst = pre_procces(data_tst, cv_tst, label_tst)\n",
    "clean_data_tst"
   ]
  },
  {
   "cell_type": "code",
   "execution_count": 5,
   "metadata": {
    "id": "z7VqOFe2Jr5u"
   },
   "outputs": [],
   "source": [
    "from sklearn.preprocessing import LabelBinarizer\n",
    "def mapping(clean_data):\n",
    "    \n",
    "    ln2 = int(clean_data['cv1'].str.encode(encoding='utf-8').str.len().max())\n",
    "    ln3 = int(clean_data['cv2'].str.encode(encoding='utf-8').str.len().max()) \n",
    "    ln4 = int(clean_data['m1'].str.encode(encoding='utf-8').str.len().max()) \n",
    "    ln5 = int(clean_data['m2'].str.encode(encoding='utf-8').str.len().max()) \n",
    "    print(max(ln2, ln3, ln4, ln5))\n",
    "    #ln = int(clean_data['cv1'].str.encode(encoding='utf-8').str.len().max()) + int(clean_data['cv2'].str.encode(encoding='utf-8').str.len().max()) + int(clean_data['m1'].str.encode(encoding='utf-8').str.len().max()) + int(clean_data['m2'].str.encode(encoding='utf-8').str.len().max())\n",
    "    b2 = np.zeros((len(clean_data['cv2'])*2, 65))\n",
    "    X_data = clean_data.drop('label', axis=1)\n",
    "\n",
    "    this_str = ''\n",
    "    m_list = []\n",
    "    f_list = []\n",
    "    for i in range(X_data.shape[0]):\n",
    "        #print(X_data.iloc[i])\n",
    "        this_str += X_data.iloc[i][0]\n",
    "        #print(this_str)\n",
    "        this_str += X_data.iloc[i][2]\n",
    "        #print(this_str)\n",
    "        m_list.append(this_str)\n",
    "        this_str = ''\n",
    "        #break\n",
    "    \n",
    "    for i in range(X_data.shape[0]):\n",
    "        #print(X_data.iloc[i])\n",
    "        this_str += X_data.iloc[i][1]\n",
    "        #print(this_str)\n",
    "        this_str += X_data.iloc[i][3]\n",
    "        #print(this_str)\n",
    "        m_list.append(this_str)\n",
    "        this_str = ''\n",
    "        #break    \n",
    "        #print(len(m_list), len(m_list[116]))    \n",
    "    \n",
    "    for i in range(b2.shape[0]):\n",
    "        for j in range(len(m_list[i])):\n",
    "            if m_list[i][j] == '-':\n",
    "                b2[i][j] += 4.0\n",
    "            #m_list.append(1.0)\n",
    "            elif m_list[i][j] == 'U':\n",
    "                b2[i][j] += 3.0\n",
    "            elif m_list[i][j] == 'c':\n",
    "                b2[i][j] += 2.0\n",
    "            elif m_list[i][j] == 'v':\n",
    "                b2[i][j] += 1.0\n",
    "                \n",
    "    y = LabelBinarizer().fit_transform(clean_data.label)\n",
    "    y1 = np.concatenate((y, y), axis=0)\n",
    "    \n",
    "    X, y = b2, y1\n",
    "    \n",
    "    return X, y"
   ]
  },
  {
   "cell_type": "code",
   "execution_count": 6,
   "metadata": {
    "colab": {
     "base_uri": "https://localhost:8080/"
    },
    "id": "RxhqwYKoJr5w",
    "outputId": "108dc029-43ec-4c67-95bb-385f9f7c1f5a"
   },
   "outputs": [
    {
     "name": "stdout",
     "output_type": "stream",
     "text": [
      "47\n"
     ]
    },
    {
     "data": {
      "text/plain": [
       "(array([2., 1., 2., 2., 1., 1., 2., 2., 1., 2., 1., 2., 2., 1., 2., 2., 2.,\n",
       "        1., 2., 1., 1., 2., 1., 1., 2., 2., 1., 2., 1., 1., 2., 1., 2., 1.,\n",
       "        2., 4., 4., 3., 3., 4., 4., 3., 3., 4., 4., 3., 3., 4., 4., 0., 0.,\n",
       "        0., 0., 0., 0., 0., 0., 0., 0., 0., 0., 0., 0., 0., 0.]),\n",
       " array([0, 0, 1, 0, 0, 0, 0, 0, 0, 0, 0, 0, 0, 0, 0, 0, 0, 0, 0, 0, 0, 0,\n",
       "        0, 0, 0, 0, 0, 0, 0, 0, 0]))"
      ]
     },
     "execution_count": 6,
     "metadata": {},
     "output_type": "execute_result"
    }
   ],
   "source": [
    "X, y = mapping(clean_data)\n",
    "X[0] , y[0]"
   ]
  },
  {
   "cell_type": "code",
   "execution_count": 7,
   "metadata": {
    "colab": {
     "base_uri": "https://localhost:8080/"
    },
    "id": "z6YsBNnlJr5x",
    "outputId": "210fe275-126e-406e-d984-0e5617c8bcf7"
   },
   "outputs": [
    {
     "data": {
      "text/plain": [
       "129"
      ]
     },
     "execution_count": 7,
     "metadata": {},
     "output_type": "execute_result"
    }
   ],
   "source": [
    "ln = int(clean_data_tst['cv1'].str.encode(encoding='utf-8').str.len().max()) + int(clean_data_tst['cv2'].str.encode(encoding='utf-8').str.len().max()) + int(clean_data_tst['m1'].str.encode(encoding='utf-8').str.len().max()) + int(clean_data_tst['m2'].str.encode(encoding='utf-8').str.len().max())\n",
    "ln"
   ]
  },
  {
   "cell_type": "code",
   "execution_count": 8,
   "metadata": {
    "colab": {
     "base_uri": "https://localhost:8080/"
    },
    "id": "R8gp2c4fJr5y",
    "outputId": "7c01831d-9540-488d-a0af-00c60bd5dab3"
   },
   "outputs": [
    {
     "name": "stdout",
     "output_type": "stream",
     "text": [
      "49\n"
     ]
    },
    {
     "data": {
      "text/plain": [
       "((774, 65), (774, 31))"
      ]
     },
     "execution_count": 8,
     "metadata": {},
     "output_type": "execute_result"
    }
   ],
   "source": [
    "X_test, y_test = mapping(clean_data_tst)\n",
    "X_test.shape, y_test.shape"
   ]
  },
  {
   "cell_type": "code",
   "execution_count": 9,
   "metadata": {
    "colab": {
     "base_uri": "https://localhost:8080/"
    },
    "id": "l5hdrjZoJr51",
    "outputId": "6af45523-a17b-4a0e-b797-ca939b30f273"
   },
   "outputs": [
    {
     "data": {
      "text/plain": [
       "((1820, 65), (1820, 31))"
      ]
     },
     "execution_count": 9,
     "metadata": {},
     "output_type": "execute_result"
    }
   ],
   "source": [
    "X.shape, y.shape"
   ]
  },
  {
   "cell_type": "code",
   "execution_count": 10,
   "metadata": {
    "id": "9HNzUAGTJr52"
   },
   "outputs": [],
   "source": [
    "from sklearn.model_selection import train_test_split\n",
    "X_train, X_val, y_train, y_val = train_test_split(X, y, test_size=0.2, random_state=1234)"
   ]
  },
  {
   "cell_type": "code",
   "execution_count": 11,
   "metadata": {
    "colab": {
     "base_uri": "https://localhost:8080/"
    },
    "id": "0LX3-_v7Jr53",
    "outputId": "ae8c01f0-dc57-433f-a944-449198f12dfa"
   },
   "outputs": [
    {
     "data": {
      "text/plain": [
       "((1456, 65), (1456, 31), numpy.ndarray, numpy.ndarray)"
      ]
     },
     "execution_count": 11,
     "metadata": {},
     "output_type": "execute_result"
    }
   ],
   "source": [
    "X_train.shape, y_train.shape, type(X_train), type(y_train)"
   ]
  },
  {
   "cell_type": "code",
   "execution_count": 12,
   "metadata": {
    "colab": {
     "base_uri": "https://localhost:8080/"
    },
    "id": "xIgLOvK0Jr54",
    "outputId": "6a857157-84ec-4487-e4e2-bc725baff28e"
   },
   "outputs": [
    {
     "data": {
      "text/plain": [
       "((364, 65), (364, 31), numpy.ndarray, numpy.ndarray)"
      ]
     },
     "execution_count": 12,
     "metadata": {},
     "output_type": "execute_result"
    }
   ],
   "source": [
    "X_val.shape, y_val.shape, type(X_val), type(y_val)"
   ]
  },
  {
   "cell_type": "code",
   "execution_count": 13,
   "metadata": {
    "id": "yWTolyaIJr55"
   },
   "outputs": [],
   "source": [
    "from tensorflow.keras.models import Model\n",
    "from tensorflow.keras.layers import Input, Dense, Dropout, BatchNormalization"
   ]
  },
  {
   "cell_type": "code",
   "execution_count": 208,
   "metadata": {
    "id": "Tg735ohVJr55"
   },
   "outputs": [],
   "source": [
    "input_layer = Input(shape=(65,))\n",
    "\n",
    "x = Dense(units=1024, activation='relu')(input_layer)\n",
    "x = Dense(units=1024, activation='relu')(x)\n",
    "x = Dense(units=512, activation='relu')(x)\n",
    "x = Dense(units=512, activation='relu')(x)\n",
    "x = Dense(units=512, activation='relu')(x)\n",
    "x = Dense(units=256, activation='relu')(x)\n",
    "x = Dense(units=256, activation='relu')(x)\n",
    "x = Dense(units=128, activation='relu')(x)\n",
    "x = Dense(units=128, activation='relu')(x)\n",
    "x = Dropout(0.85)(x)\n",
    "predictions = Dense(units=31, activation='softmax')(x)\n",
    "\n",
    "my_classifier_model = Model(inputs=input_layer, outputs=predictions)"
   ]
  },
  {
   "cell_type": "code",
   "execution_count": 209,
   "metadata": {
    "colab": {
     "base_uri": "https://localhost:8080/"
    },
    "id": "K-FOXerHJr56",
    "outputId": "25f33bd2-d43c-4da1-ae71-eea80172f71c"
   },
   "outputs": [
    {
     "name": "stdout",
     "output_type": "stream",
     "text": [
      "Model: \"model_21\"\n",
      "_________________________________________________________________\n",
      "Layer (type)                 Output Shape              Param #   \n",
      "=================================================================\n",
      "input_22 (InputLayer)        [(None, 65)]              0         \n",
      "_________________________________________________________________\n",
      "dense_210 (Dense)            (None, 1024)              67584     \n",
      "_________________________________________________________________\n",
      "dense_211 (Dense)            (None, 1024)              1049600   \n",
      "_________________________________________________________________\n",
      "dense_212 (Dense)            (None, 512)               524800    \n",
      "_________________________________________________________________\n",
      "dense_213 (Dense)            (None, 512)               262656    \n",
      "_________________________________________________________________\n",
      "dense_214 (Dense)            (None, 512)               262656    \n",
      "_________________________________________________________________\n",
      "dense_215 (Dense)            (None, 256)               131328    \n",
      "_________________________________________________________________\n",
      "dense_216 (Dense)            (None, 256)               65792     \n",
      "_________________________________________________________________\n",
      "dense_217 (Dense)            (None, 128)               32896     \n",
      "_________________________________________________________________\n",
      "dense_218 (Dense)            (None, 128)               16512     \n",
      "_________________________________________________________________\n",
      "dropout_21 (Dropout)         (None, 128)               0         \n",
      "_________________________________________________________________\n",
      "dense_219 (Dense)            (None, 31)                3999      \n",
      "=================================================================\n",
      "Total params: 2,417,823\n",
      "Trainable params: 2,417,823\n",
      "Non-trainable params: 0\n",
      "_________________________________________________________________\n"
     ]
    }
   ],
   "source": [
    "my_classifier_model.summary()"
   ]
  },
  {
   "cell_type": "code",
   "execution_count": 210,
   "metadata": {
    "id": "Jw-hyrWxJr58"
   },
   "outputs": [],
   "source": [
    "from tensorflow.keras.optimizers import SGD, Adam, RMSprop\n",
    "opt = SGD(learning_rate=0.001, momentum=0.98, decay=0.0001)\n",
    "#opt = RMSprop(learning_rate=0.01)\n",
    "\n",
    "my_classifier_model.compile(optimizer=opt,\n",
    "                                  loss='categorical_crossentropy',\n",
    "                                  metrics=['accuracy'])"
   ]
  },
  {
   "cell_type": "code",
   "execution_count": 211,
   "metadata": {
    "colab": {
     "base_uri": "https://localhost:8080/"
    },
    "id": "y3meVfoPJr58",
    "outputId": "afadeff8-c9ae-4bd7-faa8-5c20c84435f9"
   },
   "outputs": [
    {
     "data": {
      "text/plain": [
       "<keras.callbacks.History at 0x7f6651cae2d0>"
      ]
     },
     "execution_count": 211,
     "metadata": {},
     "output_type": "execute_result"
    }
   ],
   "source": [
    "my_classifier_model.fit(x=X_train,\n",
    "                              y=y_train,\n",
    "                              batch_size=32,\n",
    "                              epochs=200,\n",
    "                              shuffle=True,\n",
    "                              verbose=0,\n",
    "                              validation_data=(X_val, y_val))"
   ]
  },
  {
   "cell_type": "code",
   "execution_count": 213,
   "metadata": {
    "colab": {
     "base_uri": "https://localhost:8080/"
    },
    "id": "2Bz2VbRYJr59",
    "outputId": "48ffcc90-b8a4-4a3b-952c-ad231162d1bb"
   },
   "outputs": [
    {
     "data": {
      "text/plain": [
       "1.913007140159607"
      ]
     },
     "execution_count": 213,
     "metadata": {},
     "output_type": "execute_result"
    }
   ],
   "source": [
    "model_loss_history['val_loss'].min()"
   ]
  },
  {
   "cell_type": "code",
   "execution_count": 214,
   "metadata": {
    "colab": {
     "base_uri": "https://localhost:8080/",
     "height": 284
    },
    "id": "Wz1htFwwJr5-",
    "outputId": "b997fca0-4cc6-4a6a-b55d-101c64210a11"
   },
   "outputs": [
    {
     "data": {
      "text/plain": [
       "<matplotlib.axes._subplots.AxesSubplot at 0x7f6651aec2d0>"
      ]
     },
     "execution_count": 214,
     "metadata": {},
     "output_type": "execute_result"
    },
    {
     "data": {
      "image/png": "[encoded data removed]",
      "text/plain": [
       "<Figure size 432x288 with 1 Axes>"
      ]
     },
     "metadata": {
      "needs_background": "light"
     },
     "output_type": "display_data"
    }
   ],
   "source": [
    "model_accuracy_history = pd.DataFrame({'accuracy': my_classifier_model.history.history['accuracy'],\n",
    "                                       'val_accuracy': my_classifier_model.history.history['val_accuracy']})\n",
    "model_accuracy_history.plot()"
   ]
  },
  {
   "cell_type": "code",
   "execution_count": 215,
   "metadata": {
    "colab": {
     "base_uri": "https://localhost:8080/"
    },
    "id": "QPnOixx9Jr5-",
    "outputId": "8fed78d6-7cbe-4c8c-e0f2-2b2196855900"
   },
   "outputs": [
    {
     "data": {
      "text/plain": [
       "0.541208803653717"
      ]
     },
     "execution_count": 215,
     "metadata": {},
     "output_type": "execute_result"
    }
   ],
   "source": [
    "model_accuracy_history['val_accuracy'].max()"
   ]
  },
  {
   "cell_type": "code",
   "execution_count": 216,
   "metadata": {
    "colab": {
     "base_uri": "https://localhost:8080/"
    },
    "id": "mnIpaRy4Jr5_",
    "outputId": "608df324-dc77-4310-9598-c610abebeb6d"
   },
   "outputs": [
    {
     "name": "stdout",
     "output_type": "stream",
     "text": [
      "25/25 [==============================] - 0s 4ms/step - loss: 4.0429 - accuracy: 0.4703\n"
     ]
    },
    {
     "data": {
      "text/plain": [
       "[4.042856693267822, 0.47028422355651855]"
      ]
     },
     "execution_count": 216,
     "metadata": {},
     "output_type": "execute_result"
    }
   ],
   "source": [
    "my_classifier_model.evaluate(x=X_test, y=y_test)"
   ]
  },
  {
   "cell_type": "code",
   "execution_count": null,
   "metadata": {
    "id": "ki0lMkWDSa_k"
   },
   "outputs": [],
   "source": []
  },
  {
   "cell_type": "code",
   "execution_count": null,
   "metadata": {
    "id": "2LZ6FIROQvCg"
   },
   "outputs": [],
   "source": []
  }
 ],
 "metadata": {
  "accelerator": "GPU",
  "colab": {
   "name": "Untitled1.ipynb",
   "provenance": []
  },
  "kernelspec": {
   "display_name": "Python 3",
   "language": "python",
   "name": "python3"
  },
  "language_info": {
   "codemirror_mode": {
    "name": "ipython",
    "version": 3
   },
   "file_extension": ".py",
   "mimetype": "text/x-python",
   "name": "python",
   "nbconvert_exporter": "python",
   "pygments_lexer": "ipython3",
   "version": "3.7.9"
  }
 },
 "nbformat": 4,
 "nbformat_minor": 4
}
