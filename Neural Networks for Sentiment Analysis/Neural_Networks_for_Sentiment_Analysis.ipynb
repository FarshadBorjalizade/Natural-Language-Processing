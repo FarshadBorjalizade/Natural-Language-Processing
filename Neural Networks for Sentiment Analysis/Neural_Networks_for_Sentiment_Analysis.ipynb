{
 "cells": [
  {
   "cell_type": "code",
   "execution_count": null,
   "metadata": {
    "colab": {
     "base_uri": "https://localhost:8080/"
    },
    "id": "yZoOQ0vw_Wk_",
    "outputId": "63feec6b-b4af-4a83-8dbe-8fbdada22346"
   },
   "outputs": [
    {
     "name": "stdout",
     "output_type": "stream",
     "text": [
      "Mounted at /content/gdrive\n"
     ]
    }
   ],
   "source": [
    "from google.colab import drive\n",
    "drive.mount('/content/gdrive')"
   ]
  },
  {
   "cell_type": "code",
   "execution_count": 1,
   "metadata": {
    "id": "PHLd6upA7eNO"
   },
   "outputs": [
    {
     "ename": "KeyboardInterrupt",
     "evalue": "",
     "output_type": "error",
     "traceback": [
      "\u001b[1;31m---------------------------------------------------------------------------\u001b[0m",
      "\u001b[1;31mKeyboardInterrupt\u001b[0m                         Traceback (most recent call last)",
      "\u001b[1;32m<ipython-input-1-6751725335af>\u001b[0m in \u001b[0;36m<module>\u001b[1;34m\u001b[0m\n\u001b[0;32m      9\u001b[0m \u001b[1;32mfrom\u001b[0m \u001b[0mnumpy\u001b[0m \u001b[1;32mimport\u001b[0m \u001b[0mzeros\u001b[0m\u001b[1;33m\u001b[0m\u001b[1;33m\u001b[0m\u001b[0m\n\u001b[0;32m     10\u001b[0m \u001b[1;33m\u001b[0m\u001b[0m\n\u001b[1;32m---> 11\u001b[1;33m \u001b[1;32mfrom\u001b[0m \u001b[0mkeras\u001b[0m\u001b[1;33m.\u001b[0m\u001b[0mpreprocessing\u001b[0m\u001b[1;33m.\u001b[0m\u001b[0msequence\u001b[0m \u001b[1;32mimport\u001b[0m \u001b[0mpad_sequences\u001b[0m\u001b[1;33m\u001b[0m\u001b[1;33m\u001b[0m\u001b[0m\n\u001b[0m\u001b[0;32m     12\u001b[0m \u001b[1;32mfrom\u001b[0m \u001b[0mkeras\u001b[0m\u001b[1;33m.\u001b[0m\u001b[0mmodels\u001b[0m \u001b[1;32mimport\u001b[0m \u001b[0mSequential\u001b[0m\u001b[1;33m\u001b[0m\u001b[1;33m\u001b[0m\u001b[0m\n\u001b[0;32m     13\u001b[0m \u001b[1;32mfrom\u001b[0m \u001b[0mkeras\u001b[0m\u001b[1;33m.\u001b[0m\u001b[0mlayers\u001b[0m\u001b[1;33m.\u001b[0m\u001b[0mcore\u001b[0m \u001b[1;32mimport\u001b[0m \u001b[0mActivation\u001b[0m\u001b[1;33m,\u001b[0m \u001b[0mDropout\u001b[0m\u001b[1;33m,\u001b[0m \u001b[0mDense\u001b[0m\u001b[1;33m\u001b[0m\u001b[1;33m\u001b[0m\u001b[0m\n",
      "\u001b[1;32m~\\anaconda3\\envs\\PythonCPU\\lib\\site-packages\\keras\\__init__.py\u001b[0m in \u001b[0;36m<module>\u001b[1;34m\u001b[0m\n\u001b[0;32m      1\u001b[0m \u001b[1;32mfrom\u001b[0m \u001b[0m__future__\u001b[0m \u001b[1;32mimport\u001b[0m \u001b[0mabsolute_import\u001b[0m\u001b[1;33m\u001b[0m\u001b[1;33m\u001b[0m\u001b[0m\n\u001b[0;32m      2\u001b[0m \u001b[1;33m\u001b[0m\u001b[0m\n\u001b[1;32m----> 3\u001b[1;33m \u001b[1;32mfrom\u001b[0m \u001b[1;33m.\u001b[0m \u001b[1;32mimport\u001b[0m \u001b[0mutils\u001b[0m\u001b[1;33m\u001b[0m\u001b[1;33m\u001b[0m\u001b[0m\n\u001b[0m\u001b[0;32m      4\u001b[0m \u001b[1;32mfrom\u001b[0m \u001b[1;33m.\u001b[0m \u001b[1;32mimport\u001b[0m \u001b[0mactivations\u001b[0m\u001b[1;33m\u001b[0m\u001b[1;33m\u001b[0m\u001b[0m\n\u001b[0;32m      5\u001b[0m \u001b[1;32mfrom\u001b[0m \u001b[1;33m.\u001b[0m \u001b[1;32mimport\u001b[0m \u001b[0mapplications\u001b[0m\u001b[1;33m\u001b[0m\u001b[1;33m\u001b[0m\u001b[0m\n",
      "\u001b[1;32m~\\anaconda3\\envs\\PythonCPU\\lib\\site-packages\\keras\\utils\\__init__.py\u001b[0m in \u001b[0;36m<module>\u001b[1;34m\u001b[0m\n\u001b[0;32m      3\u001b[0m \u001b[1;32mfrom\u001b[0m \u001b[1;33m.\u001b[0m \u001b[1;32mimport\u001b[0m \u001b[0mgeneric_utils\u001b[0m\u001b[1;33m\u001b[0m\u001b[1;33m\u001b[0m\u001b[0m\n\u001b[0;32m      4\u001b[0m \u001b[1;32mfrom\u001b[0m \u001b[1;33m.\u001b[0m \u001b[1;32mimport\u001b[0m \u001b[0mdata_utils\u001b[0m\u001b[1;33m\u001b[0m\u001b[1;33m\u001b[0m\u001b[0m\n\u001b[1;32m----> 5\u001b[1;33m \u001b[1;32mfrom\u001b[0m \u001b[1;33m.\u001b[0m \u001b[1;32mimport\u001b[0m \u001b[0mio_utils\u001b[0m\u001b[1;33m\u001b[0m\u001b[1;33m\u001b[0m\u001b[0m\n\u001b[0m\u001b[0;32m      6\u001b[0m \u001b[1;32mfrom\u001b[0m \u001b[1;33m.\u001b[0m \u001b[1;32mimport\u001b[0m \u001b[0mconv_utils\u001b[0m\u001b[1;33m\u001b[0m\u001b[1;33m\u001b[0m\u001b[0m\n\u001b[0;32m      7\u001b[0m \u001b[1;32mfrom\u001b[0m \u001b[1;33m.\u001b[0m \u001b[1;32mimport\u001b[0m \u001b[0mlosses_utils\u001b[0m\u001b[1;33m\u001b[0m\u001b[1;33m\u001b[0m\u001b[0m\n",
      "\u001b[1;32m~\\anaconda3\\envs\\PythonCPU\\lib\\site-packages\\keras\\utils\\io_utils.py\u001b[0m in \u001b[0;36m<module>\u001b[1;34m\u001b[0m\n\u001b[0;32m     12\u001b[0m \u001b[1;32mimport\u001b[0m \u001b[0msix\u001b[0m\u001b[1;33m\u001b[0m\u001b[1;33m\u001b[0m\u001b[0m\n\u001b[0;32m     13\u001b[0m \u001b[1;32mtry\u001b[0m\u001b[1;33m:\u001b[0m\u001b[1;33m\u001b[0m\u001b[1;33m\u001b[0m\u001b[0m\n\u001b[1;32m---> 14\u001b[1;33m     \u001b[1;32mimport\u001b[0m \u001b[0mh5py\u001b[0m\u001b[1;33m\u001b[0m\u001b[1;33m\u001b[0m\u001b[0m\n\u001b[0m\u001b[0;32m     15\u001b[0m     \u001b[0mHDF5_OBJECT_HEADER_LIMIT\u001b[0m \u001b[1;33m=\u001b[0m \u001b[1;36m64512\u001b[0m\u001b[1;33m\u001b[0m\u001b[1;33m\u001b[0m\u001b[0m\n\u001b[0;32m     16\u001b[0m \u001b[1;32mexcept\u001b[0m \u001b[0mImportError\u001b[0m\u001b[1;33m:\u001b[0m\u001b[1;33m\u001b[0m\u001b[1;33m\u001b[0m\u001b[0m\n",
      "\u001b[1;32m~\\anaconda3\\envs\\PythonCPU\\lib\\site-packages\\h5py\\__init__.py\u001b[0m in \u001b[0;36m<module>\u001b[1;34m\u001b[0m\n\u001b[0;32m     43\u001b[0m \u001b[1;31m# --- Public API --------------------------------------------------------------\u001b[0m\u001b[1;33m\u001b[0m\u001b[1;33m\u001b[0m\u001b[1;33m\u001b[0m\u001b[0m\n\u001b[0;32m     44\u001b[0m \u001b[1;33m\u001b[0m\u001b[0m\n\u001b[1;32m---> 45\u001b[1;33m \u001b[1;32mfrom\u001b[0m \u001b[1;33m.\u001b[0m \u001b[1;32mimport\u001b[0m \u001b[0mh5a\u001b[0m\u001b[1;33m,\u001b[0m \u001b[0mh5d\u001b[0m\u001b[1;33m,\u001b[0m \u001b[0mh5ds\u001b[0m\u001b[1;33m,\u001b[0m \u001b[0mh5f\u001b[0m\u001b[1;33m,\u001b[0m \u001b[0mh5fd\u001b[0m\u001b[1;33m,\u001b[0m \u001b[0mh5g\u001b[0m\u001b[1;33m,\u001b[0m \u001b[0mh5r\u001b[0m\u001b[1;33m,\u001b[0m \u001b[0mh5s\u001b[0m\u001b[1;33m,\u001b[0m \u001b[0mh5t\u001b[0m\u001b[1;33m,\u001b[0m \u001b[0mh5p\u001b[0m\u001b[1;33m,\u001b[0m \u001b[0mh5z\u001b[0m\u001b[1;33m\u001b[0m\u001b[1;33m\u001b[0m\u001b[0m\n\u001b[0m\u001b[0;32m     46\u001b[0m \u001b[1;33m\u001b[0m\u001b[0m\n\u001b[0;32m     47\u001b[0m \u001b[1;32mfrom\u001b[0m \u001b[1;33m.\u001b[0m\u001b[0m_hl\u001b[0m \u001b[1;32mimport\u001b[0m \u001b[0mfilters\u001b[0m\u001b[1;33m\u001b[0m\u001b[1;33m\u001b[0m\u001b[0m\n",
      "\u001b[1;32mh5py\\h5f.pyx\u001b[0m in \u001b[0;36minit h5py.h5f\u001b[1;34m()\u001b[0m\n",
      "\u001b[1;32mh5py\\_objects.pxd\u001b[0m in \u001b[0;36minit h5py.h5i\u001b[1;34m()\u001b[0m\n",
      "\u001b[1;32m~\\anaconda3\\envs\\PythonCPU\\lib\\importlib\\_bootstrap.py\u001b[0m in \u001b[0;36m_lock_unlock_module\u001b[1;34m(name)\u001b[0m\n",
      "\u001b[1;31mKeyboardInterrupt\u001b[0m: "
     ]
    }
   ],
   "source": [
    "import pandas as pd\n",
    "import numpy as np\n",
    "import re\n",
    "import matplotlib.pyplot as plt\n",
    "\n",
    "from sklearn.model_selection import train_test_split\n",
    "from numpy import array\n",
    "from numpy import asarray\n",
    "from numpy import zeros\n",
    "\n",
    "from keras.preprocessing.sequence import pad_sequences\n",
    "from keras.models import Sequential\n",
    "from keras.layers.core import Activation, Dropout, Dense\n",
    "from keras.layers import Flatten\n",
    "from keras.layers.embeddings import Embedding\n",
    "from keras.preprocessing.text import Tokenizer"
   ]
  },
  {
   "cell_type": "code",
   "execution_count": null,
   "metadata": {
    "id": "qAyPjvMmVg1E"
   },
   "outputs": [],
   "source": [
    "path = '/content/gdrive/MyDrive/Dataset/NLP/HW5 - Sentiment analysis/'"
   ]
  },
  {
   "cell_type": "code",
   "execution_count": null,
   "metadata": {
    "id": "L9uQyVNdr3PW"
   },
   "outputs": [],
   "source": [
    "def read_data(data_path, name):\n",
    "    with open(data_path + name, mode='r') as file_in:\n",
    "        my_dict = {}\n",
    "        labels = []\n",
    "        lines = []\n",
    "        for line in file_in:\n",
    "            labels.append(int(line[0]))\n",
    "            lines.append(line[2:].lower())\n",
    "        #my_dict['label'] = labels\n",
    "        #my_dict['text'] = lines\n",
    "    return lines, labels"
   ]
  },
  {
   "cell_type": "code",
   "execution_count": null,
   "metadata": {
    "colab": {
     "base_uri": "https://localhost:8080/"
    },
    "id": "DTsiX1d0shqw",
    "outputId": "514aa6d1-8521-4ab2-d5c4-7a4366ca3e52"
   },
   "outputs": [
    {
     "data": {
      "text/plain": [
       "(6920, 6920)"
      ]
     },
     "execution_count": 41,
     "metadata": {
      "tags": []
     },
     "output_type": "execute_result"
    }
   ],
   "source": [
    "X_tr, y_tr = read_data(path, 'train.txt')\n",
    "len(X_tr), len(y_tr)"
   ]
  },
  {
   "cell_type": "code",
   "execution_count": null,
   "metadata": {
    "colab": {
     "base_uri": "https://localhost:8080/"
    },
    "id": "TMiVJBqaxjx0",
    "outputId": "20e64517-da3d-4349-d11b-6f54f8053549"
   },
   "outputs": [
    {
     "data": {
      "text/plain": [
       "(872, 872)"
      ]
     },
     "execution_count": 42,
     "metadata": {
      "tags": []
     },
     "output_type": "execute_result"
    }
   ],
   "source": [
    "X_te, y_te = read_data(path, 'dev.txt')\n",
    "len(X_te), len(y_te)"
   ]
  },
  {
   "cell_type": "code",
   "execution_count": null,
   "metadata": {
    "colab": {
     "base_uri": "https://localhost:8080/",
     "height": 418
    },
    "id": "YWCDXO-LI7Ft",
    "outputId": "cbe42e1d-2ffc-4e8f-dd37-5b30d5467242"
   },
   "outputs": [
    {
     "data": {
      "text/html": [
       "<div>\n",
       "<style scoped>\n",
       "    .dataframe tbody tr th:only-of-type {\n",
       "        vertical-align: middle;\n",
       "    }\n",
       "\n",
       "    .dataframe tbody tr th {\n",
       "        vertical-align: top;\n",
       "    }\n",
       "\n",
       "    .dataframe thead th {\n",
       "        text-align: right;\n",
       "    }\n",
       "</style>\n",
       "<table border=\"1\" class=\"dataframe\">\n",
       "  <thead>\n",
       "    <tr style=\"text-align: right;\">\n",
       "      <th></th>\n",
       "      <th>review</th>\n",
       "      <th>sentiment</th>\n",
       "    </tr>\n",
       "  </thead>\n",
       "  <tbody>\n",
       "    <tr>\n",
       "      <th>0</th>\n",
       "      <td>the rock is destined to be the 21st century 's...</td>\n",
       "      <td>1</td>\n",
       "    </tr>\n",
       "    <tr>\n",
       "      <th>1</th>\n",
       "      <td>the gorgeously elaborate continuation of `` th...</td>\n",
       "      <td>1</td>\n",
       "    </tr>\n",
       "    <tr>\n",
       "      <th>2</th>\n",
       "      <td>singer\\/composer bryan adams contributes a sle...</td>\n",
       "      <td>1</td>\n",
       "    </tr>\n",
       "    <tr>\n",
       "      <th>3</th>\n",
       "      <td>yet the act is still charming here .\\n</td>\n",
       "      <td>1</td>\n",
       "    </tr>\n",
       "    <tr>\n",
       "      <th>4</th>\n",
       "      <td>whether or not you 're enlightened by any of d...</td>\n",
       "      <td>1</td>\n",
       "    </tr>\n",
       "    <tr>\n",
       "      <th>...</th>\n",
       "      <td>...</td>\n",
       "      <td>...</td>\n",
       "    </tr>\n",
       "    <tr>\n",
       "      <th>6915</th>\n",
       "      <td>a real snooze .\\n</td>\n",
       "      <td>0</td>\n",
       "    </tr>\n",
       "    <tr>\n",
       "      <th>6916</th>\n",
       "      <td>no surprises .\\n</td>\n",
       "      <td>0</td>\n",
       "    </tr>\n",
       "    <tr>\n",
       "      <th>6917</th>\n",
       "      <td>we 've seen the hippie-turned-yuppie plot befo...</td>\n",
       "      <td>1</td>\n",
       "    </tr>\n",
       "    <tr>\n",
       "      <th>6918</th>\n",
       "      <td>her fans walked out muttering words like `` ho...</td>\n",
       "      <td>0</td>\n",
       "    </tr>\n",
       "    <tr>\n",
       "      <th>6919</th>\n",
       "      <td>in this case zero .\\n</td>\n",
       "      <td>0</td>\n",
       "    </tr>\n",
       "  </tbody>\n",
       "</table>\n",
       "<p>6920 rows × 2 columns</p>\n",
       "</div>"
      ],
      "text/plain": [
       "                                                 review  sentiment\n",
       "0     the rock is destined to be the 21st century 's...          1\n",
       "1     the gorgeously elaborate continuation of `` th...          1\n",
       "2     singer\\/composer bryan adams contributes a sle...          1\n",
       "3                yet the act is still charming here .\\n          1\n",
       "4     whether or not you 're enlightened by any of d...          1\n",
       "...                                                 ...        ...\n",
       "6915                                  a real snooze .\\n          0\n",
       "6916                                   no surprises .\\n          0\n",
       "6917  we 've seen the hippie-turned-yuppie plot befo...          1\n",
       "6918  her fans walked out muttering words like `` ho...          0\n",
       "6919                              in this case zero .\\n          0\n",
       "\n",
       "[6920 rows x 2 columns]"
      ]
     },
     "execution_count": 43,
     "metadata": {
      "tags": []
     },
     "output_type": "execute_result"
    }
   ],
   "source": [
    "# Import pandas library\n",
    "import pandas as pd\n",
    " \n",
    "# initialise data of lists.\n",
    "data = {'review': X_tr,\n",
    "        'sentiment': y_tr}\n",
    " \n",
    "# Create DataFrame\n",
    "movie_review = pd.DataFrame(data)\n",
    " \n",
    "# Print the output.\n",
    "movie_review"
   ]
  },
  {
   "cell_type": "code",
   "execution_count": null,
   "metadata": {
    "colab": {
     "base_uri": "https://localhost:8080/"
    },
    "id": "f-acz7bFQ7y5",
    "outputId": "cce2ff1c-fa14-4fa2-fea4-e3750b002c1c"
   },
   "outputs": [
    {
     "data": {
      "text/plain": [
       "False"
      ]
     },
     "execution_count": 44,
     "metadata": {
      "tags": []
     },
     "output_type": "execute_result"
    }
   ],
   "source": [
    "movie_review.isnull().values.any()"
   ]
  },
  {
   "cell_type": "code",
   "execution_count": null,
   "metadata": {
    "colab": {
     "base_uri": "https://localhost:8080/"
    },
    "id": "3de2AS8CRAT2",
    "outputId": "41e65077-c059-44cc-b5bd-5e5071092aa5"
   },
   "outputs": [
    {
     "data": {
      "text/plain": [
       "(6920, 2)"
      ]
     },
     "execution_count": 45,
     "metadata": {
      "tags": []
     },
     "output_type": "execute_result"
    }
   ],
   "source": [
    "movie_review.shape"
   ]
  },
  {
   "cell_type": "code",
   "execution_count": null,
   "metadata": {
    "colab": {
     "base_uri": "https://localhost:8080/",
     "height": 53
    },
    "id": "zbf36hZ3Sssm",
    "outputId": "7ddbbdc3-87e0-4eb6-fba6-4b4675c51c94"
   },
   "outputs": [
    {
     "data": {
      "application/vnd.google.colaboratory.intrinsic+json": {
       "type": "string"
      },
      "text/plain": [
       "'singer\\\\/composer bryan adams contributes a slew of songs -- a few potential hits , a few more simply intrusive to the story -- but the whole package certainly captures the intended , er , spirit of the piece .\\n'"
      ]
     },
     "execution_count": 46,
     "metadata": {
      "tags": []
     },
     "output_type": "execute_result"
    }
   ],
   "source": [
    "movie_review['review'][2]"
   ]
  },
  {
   "cell_type": "code",
   "execution_count": null,
   "metadata": {
    "colab": {
     "base_uri": "https://localhost:8080/",
     "height": 297
    },
    "id": "fFigSdZRR5B4",
    "outputId": "a72b61c7-cf4b-45fc-9907-bc049ae54c0f"
   },
   "outputs": [
    {
     "data": {
      "text/plain": [
       "<matplotlib.axes._subplots.AxesSubplot at 0x7fb056167f10>"
      ]
     },
     "execution_count": 47,
     "metadata": {
      "tags": []
     },
     "output_type": "execute_result"
    },
    {
     "data": {
      "image/png": "[encoded data removed]",
      "text/plain": [
       "<Figure size 432x288 with 1 Axes>"
      ]
     },
     "metadata": {
      "needs_background": "light",
      "tags": []
     },
     "output_type": "display_data"
    }
   ],
   "source": [
    "import seaborn as sns\n",
    "\n",
    "sns.countplot(x='sentiment', data=movie_review)"
   ]
  },
  {
   "cell_type": "code",
   "execution_count": null,
   "metadata": {
    "id": "Ouf6bw4y28xd"
   },
   "outputs": [],
   "source": [
    "def preprocess_text(sen):\n",
    "    # Removing html tags\n",
    "    sentence = remove_tags(sen)\n",
    "\n",
    "    # Remove punctuations and numbers\n",
    "    sentence = re.sub('[^a-zA-Z]', ' ', sentence)\n",
    "\n",
    "    # Single character removal\n",
    "    sentence = re.sub(r\"\\s+[a-zA-Z]\\s+\", ' ', sentence)\n",
    "\n",
    "    # Removing multiple spaces\n",
    "    sentence = re.sub(r'\\s+', ' ', sentence)\n",
    "\n",
    "    return sentence\n",
    "    \n",
    "def remove_tags(text):\n",
    "    return TAG_RE.sub('', text)"
   ]
  },
  {
   "cell_type": "code",
   "execution_count": null,
   "metadata": {
    "id": "exec2E2ORaiF"
   },
   "outputs": [],
   "source": [
    "TAG_RE = re.compile(r'<[^>]+>')"
   ]
  },
  {
   "cell_type": "code",
   "execution_count": null,
   "metadata": {
    "id": "7KvVnLoPRakv"
   },
   "outputs": [],
   "source": [
    "X = []\n",
    "sentences = list(movie_review['review'])\n",
    "for sen in sentences:\n",
    "    X.append(preprocess_text(sen))"
   ]
  },
  {
   "cell_type": "code",
   "execution_count": null,
   "metadata": {
    "colab": {
     "base_uri": "https://localhost:8080/",
     "height": 53
    },
    "id": "2fZeWuilSnHO",
    "outputId": "217cd81f-5813-4933-c8cf-19b7247d2c3f"
   },
   "outputs": [
    {
     "data": {
      "application/vnd.google.colaboratory.intrinsic+json": {
       "type": "string"
      },
      "text/plain": [
       "'singer composer bryan adams contributes slew of songs few potential hits few more simply intrusive to the story but the whole package certainly captures the intended er spirit of the piece '"
      ]
     },
     "execution_count": 51,
     "metadata": {
      "tags": []
     },
     "output_type": "execute_result"
    }
   ],
   "source": [
    "X[2]"
   ]
  },
  {
   "cell_type": "code",
   "execution_count": null,
   "metadata": {
    "id": "HtyV1yNoSnJ-"
   },
   "outputs": [],
   "source": [
    "y = movie_review['sentiment']\n",
    "\n",
    "y = np.array(list(map(lambda x: 1 if x==1 else 0, y)))"
   ]
  },
  {
   "cell_type": "code",
   "execution_count": null,
   "metadata": {
    "id": "q2O-tNTGSnMC"
   },
   "outputs": [],
   "source": [
    "X_test, y_test = X_te, np.array(y_te)"
   ]
  },
  {
   "cell_type": "code",
   "execution_count": null,
   "metadata": {
    "colab": {
     "base_uri": "https://localhost:8080/"
    },
    "id": "3i3gWAxBUYxR",
    "outputId": "1262587d-6ab0-433e-c707-abd5b403e962"
   },
   "outputs": [
    {
     "data": {
      "text/plain": [
       "(872, 872, list, numpy.ndarray)"
      ]
     },
     "execution_count": 54,
     "metadata": {
      "tags": []
     },
     "output_type": "execute_result"
    }
   ],
   "source": [
    "len(X_test), len(y_test), type(X_test), type(y_test)"
   ]
  },
  {
   "cell_type": "code",
   "execution_count": null,
   "metadata": {
    "id": "pbQXZ-0zUrr9"
   },
   "outputs": [],
   "source": [
    "X_train, x_val, y_train, y_val = train_test_split(X, y, test_size=0.20, random_state=42)"
   ]
  },
  {
   "cell_type": "code",
   "execution_count": null,
   "metadata": {
    "colab": {
     "base_uri": "https://localhost:8080/"
    },
    "id": "_nCpTe8kAAYX",
    "outputId": "b40f664b-d778-4da4-f865-c2956668aaeb"
   },
   "outputs": [
    {
     "data": {
      "text/plain": [
       "(5536, 5536, list, numpy.ndarray, 1384, 1384, list, numpy.ndarray)"
      ]
     },
     "execution_count": 56,
     "metadata": {
      "tags": []
     },
     "output_type": "execute_result"
    }
   ],
   "source": [
    "len(X_train), len(y_train), type(X_train), type(y_train), len(x_val), len(y_val), type(x_val), type(y_val)"
   ]
  },
  {
   "cell_type": "code",
   "execution_count": null,
   "metadata": {
    "id": "GlB7ZXsJUAa0"
   },
   "outputs": [],
   "source": [
    "tokenizer = Tokenizer(num_words=10000)\n",
    "tokenizer.fit_on_texts(X_train)\n",
    "\n",
    "X_train = tokenizer.texts_to_sequences(X_train)\n",
    "x_val = tokenizer.texts_to_sequences(x_val)"
   ]
  },
  {
   "cell_type": "code",
   "execution_count": null,
   "metadata": {
    "colab": {
     "base_uri": "https://localhost:8080/"
    },
    "id": "RynbCflja2Hk",
    "outputId": "8f9b6f24-2f0d-409f-cf87-194da12072a2"
   },
   "outputs": [
    {
     "data": {
      "text/plain": [
       "[1,\n",
       " 146,\n",
       " 27,\n",
       " 170,\n",
       " 3063,\n",
       " 32,\n",
       " 4140,\n",
       " 3064,\n",
       " 2,\n",
       " 1,\n",
       " 511,\n",
       " 1999,\n",
       " 3065,\n",
       " 29,\n",
       " 30,\n",
       " 8,\n",
       " 449,\n",
       " 11,\n",
       " 749,\n",
       " 1033]"
      ]
     },
     "execution_count": 58,
     "metadata": {
      "tags": []
     },
     "output_type": "execute_result"
    }
   ],
   "source": [
    "X_train[0]"
   ]
  },
  {
   "cell_type": "code",
   "execution_count": null,
   "metadata": {
    "id": "V4LbuCoZULOK"
   },
   "outputs": [],
   "source": [
    "# Adding 1 because of reserved 0 index\n",
    "vocab_size = len(tokenizer.word_index) + 1\n",
    "\n",
    "maxlen = 1000\n",
    "\n",
    "X_train = pad_sequences(X_train, padding='post', maxlen=maxlen)\n",
    "x_val = pad_sequences(x_val, padding='post', maxlen=maxlen)"
   ]
  },
  {
   "cell_type": "code",
   "execution_count": null,
   "metadata": {
    "id": "fopKiH8iUQ6K"
   },
   "outputs": [],
   "source": [
    "embeddings_dictionary300 = dict()\n",
    "glove_file = open('/content/gdrive/MyDrive/Dataset/NLP/HW5 - Sentiment analysis/glove.6B.300d-relativized.txt', encoding=\"utf8\")\n",
    "\n",
    "for line in glove_file:\n",
    "    records = line.split()\n",
    "    word = records[0]\n",
    "    vector_dimensions300 = asarray(records[1:], dtype='float32')\n",
    "    embeddings_dictionary300 [word] = vector_dimensions300\n",
    "glove_file.close()"
   ]
  },
  {
   "cell_type": "code",
   "execution_count": null,
   "metadata": {
    "id": "J3Kh-Qm0UkuC"
   },
   "outputs": [],
   "source": [
    "embedding_matrix300 = zeros((vocab_size, 300))\n",
    "embedding_dim300 = 300\n",
    "for word, index in tokenizer.word_index.items():\n",
    "    embedding_vector300 = embeddings_dictionary300.get(word)\n",
    "    if embedding_vector300 is not None:\n",
    "        embedding_matrix300[index] = embedding_vector300"
   ]
  },
  {
   "cell_type": "code",
   "execution_count": null,
   "metadata": {
    "id": "_JNtPiJLUnbK"
   },
   "outputs": [],
   "source": [
    "ffnn300 = Sequential()\n",
    "embedding_layer = Embedding(vocab_size, embedding_dim300, weights=[embedding_matrix300], input_length=maxlen)\n",
    "ffnn300.add(embedding_layer)\n",
    "ffnn300.add(Dense(512, activation='relu'))\n",
    "ffnn300.add(Dense(256, activation='relu'))\n",
    "ffnn300.add(Dense(128, activation='relu'))\n",
    "ffnn300.add(Dense(64, activation='relu'))\n",
    "ffnn300.add(Flatten())\n",
    "ffnn300.add(Dense(1, activation='sigmoid'))"
   ]
  },
  {
   "cell_type": "code",
   "execution_count": null,
   "metadata": {
    "colab": {
     "base_uri": "https://localhost:8080/"
    },
    "id": "QL3b8KoTUzL6",
    "outputId": "f8f15b4d-aa83-4b0b-a959-4bff855bbdcb"
   },
   "outputs": [
    {
     "name": "stdout",
     "output_type": "stream",
     "text": [
      "Model: \"sequential_1\"\n",
      "_________________________________________________________________\n",
      "Layer (type)                 Output Shape              Param #   \n",
      "=================================================================\n",
      "embedding (Embedding)        (None, 1000, 300)         3670200   \n",
      "_________________________________________________________________\n",
      "dense (Dense)                (None, 1000, 512)         154112    \n",
      "_________________________________________________________________\n",
      "dense_1 (Dense)              (None, 1000, 256)         131328    \n",
      "_________________________________________________________________\n",
      "dense_2 (Dense)              (None, 1000, 128)         32896     \n",
      "_________________________________________________________________\n",
      "dense_3 (Dense)              (None, 1000, 64)          8256      \n",
      "_________________________________________________________________\n",
      "flatten (Flatten)            (None, 64000)             0         \n",
      "_________________________________________________________________\n",
      "dense_4 (Dense)              (None, 1)                 64001     \n",
      "=================================================================\n",
      "Total params: 4,060,793\n",
      "Trainable params: 4,060,793\n",
      "Non-trainable params: 0\n",
      "_________________________________________________________________\n"
     ]
    }
   ],
   "source": [
    "ffnn300.compile(loss='binary_crossentropy', optimizer='adam', metrics=['accuracy'])\n",
    "\n",
    "ffnn300.summary()"
   ]
  },
  {
   "cell_type": "code",
   "execution_count": null,
   "metadata": {
    "colab": {
     "base_uri": "https://localhost:8080/"
    },
    "id": "XoCgQtE1U9-N",
    "outputId": "dab0eb69-7f3a-4c6f-8350-dabcdef0e4fc"
   },
   "outputs": [
    {
     "name": "stdout",
     "output_type": "stream",
     "text": [
      "Epoch 1/3\n",
      "87/87 [==============================] - 25s 111ms/step - loss: 0.6512 - accuracy: 0.5904 - val_loss: 0.5423 - val_accuracy: 0.7327\n",
      "Epoch 2/3\n",
      "87/87 [==============================] - 9s 100ms/step - loss: 0.3763 - accuracy: 0.8340 - val_loss: 0.4340 - val_accuracy: 0.7962\n",
      "Epoch 3/3\n",
      "87/87 [==============================] - 9s 100ms/step - loss: 0.2109 - accuracy: 0.9180 - val_loss: 0.4808 - val_accuracy: 0.8049\n"
     ]
    }
   ],
   "source": [
    "history = ffnn300.fit(X_train, y_train,\n",
    "                    batch_size=64,\n",
    "                    epochs=3,\n",
    "                    verbose=1,\n",
    "                    shuffle=True,\n",
    "                    validation_data=(x_val, y_val))"
   ]
  },
  {
   "cell_type": "code",
   "execution_count": null,
   "metadata": {
    "id": "qVPKYtjjzwap"
   },
   "outputs": [],
   "source": [
    "X_test = tokenizer.texts_to_sequences(X_test)\n",
    "X_test = pad_sequences(X_test, padding='post', maxlen=maxlen)"
   ]
  },
  {
   "cell_type": "code",
   "execution_count": null,
   "metadata": {
    "colab": {
     "base_uri": "https://localhost:8080/"
    },
    "id": "Xf5HGktn0cJW",
    "outputId": "f14cac1d-cf46-44d0-f73a-0c0ce3f4e6e7"
   },
   "outputs": [
    {
     "name": "stdout",
     "output_type": "stream",
     "text": [
      "173/173 [==============================] - 3s 16ms/step - loss: 0.1117 - accuracy: 0.9666\n",
      "Training Accuracy: 0.9666\n"
     ]
    }
   ],
   "source": [
    "loss, accuracy = ffnn300.evaluate(X_train, y_train, verbose=1)\n",
    "print(\"Training Accuracy: {:.4f}\".format(accuracy))"
   ]
  },
  {
   "cell_type": "code",
   "execution_count": null,
   "metadata": {
    "colab": {
     "base_uri": "https://localhost:8080/"
    },
    "id": "wlrDf4rewgFK",
    "outputId": "5ca1df7c-8943-4f4f-a249-08a464d6bfc9"
   },
   "outputs": [
    {
     "name": "stdout",
     "output_type": "stream",
     "text": [
      "28/28 [==============================] - 1s 19ms/step - loss: 0.5186 - accuracy: 0.8096\n",
      "Testing Accuracy:  0.8096\n"
     ]
    }
   ],
   "source": [
    "loss, accuracy = ffnn300.evaluate(X_test, y_test, verbose=1)\n",
    "print(\"Testing Accuracy:  {:.4f}\".format(accuracy))"
   ]
  },
  {
   "cell_type": "code",
   "execution_count": null,
   "metadata": {
    "id": "r0LOVPT020J_"
   },
   "outputs": [],
   "source": [
    "from keras.backend import clear_session\n",
    "clear_session()"
   ]
  },
  {
   "cell_type": "code",
   "execution_count": null,
   "metadata": {
    "id": "lSVlXCGElu73"
   },
   "outputs": [],
   "source": [
    "embeddings_dictionary50 = dict()\n",
    "glove_file = open('/content/gdrive/MyDrive/Dataset/NLP/HW5 - Sentiment analysis/glove.6B.50d-relativized.txt', encoding=\"utf8\")\n",
    "\n",
    "for line in glove_file:\n",
    "    records = line.split()\n",
    "    word = records[0]\n",
    "    vector_dimensions50 = asarray(records[1:], dtype='float32')\n",
    "    embeddings_dictionary50 [word] = vector_dimensions50\n",
    "glove_file.close()"
   ]
  },
  {
   "cell_type": "code",
   "execution_count": null,
   "metadata": {
    "id": "84EdilKvlu74"
   },
   "outputs": [],
   "source": [
    "embedding_matrix50 = zeros((vocab_size, 50))\n",
    "embedding_dim50 = 50\n",
    "for word, index in tokenizer.word_index.items():\n",
    "    embedding_vector50 = embeddings_dictionary50.get(word)\n",
    "    if embedding_vector50 is not None:\n",
    "        embedding_matrix50[index] = embedding_vector50"
   ]
  },
  {
   "cell_type": "code",
   "execution_count": null,
   "metadata": {
    "id": "u2oQ58k9lu75"
   },
   "outputs": [],
   "source": [
    "ffnn50 = Sequential()\n",
    "embedding_layer = Embedding(vocab_size, embedding_dim50, weights=[embedding_matrix50], input_length=maxlen)\n",
    "ffnn50.add(embedding_layer)\n",
    "ffnn50.add(Dense(512, activation='relu'))\n",
    "ffnn50.add(Dense(256, activation='relu'))\n",
    "ffnn50.add(Dense(128, activation='relu'))\n",
    "ffnn50.add(Dense(64, activation='relu'))\n",
    "ffnn50.add(Flatten())\n",
    "ffnn50.add(Dense(1, activation='sigmoid'))"
   ]
  },
  {
   "cell_type": "code",
   "execution_count": null,
   "metadata": {
    "colab": {
     "base_uri": "https://localhost:8080/"
    },
    "id": "6aOuZCDulu76",
    "outputId": "b7b48cbc-ef66-4d52-ec7a-0a5eee0224be"
   },
   "outputs": [
    {
     "name": "stdout",
     "output_type": "stream",
     "text": [
      "Model: \"sequential\"\n",
      "_________________________________________________________________\n",
      "Layer (type)                 Output Shape              Param #   \n",
      "=================================================================\n",
      "embedding (Embedding)        (None, 1000, 50)          611700    \n",
      "_________________________________________________________________\n",
      "dense (Dense)                (None, 1000, 512)         26112     \n",
      "_________________________________________________________________\n",
      "dense_1 (Dense)              (None, 1000, 256)         131328    \n",
      "_________________________________________________________________\n",
      "dense_2 (Dense)              (None, 1000, 128)         32896     \n",
      "_________________________________________________________________\n",
      "dense_3 (Dense)              (None, 1000, 64)          8256      \n",
      "_________________________________________________________________\n",
      "flatten (Flatten)            (None, 64000)             0         \n",
      "_________________________________________________________________\n",
      "dense_4 (Dense)              (None, 1)                 64001     \n",
      "=================================================================\n",
      "Total params: 874,293\n",
      "Trainable params: 874,293\n",
      "Non-trainable params: 0\n",
      "_________________________________________________________________\n"
     ]
    }
   ],
   "source": [
    "ffnn50.compile(loss='binary_crossentropy', optimizer='adam', metrics=['accuracy'])\n",
    "\n",
    "ffnn50.summary()"
   ]
  },
  {
   "cell_type": "code",
   "execution_count": null,
   "metadata": {
    "colab": {
     "base_uri": "https://localhost:8080/"
    },
    "id": "RZ8MjmK4lu77",
    "outputId": "1408e60d-b8e5-4cbe-fe39-82334fc7b44a"
   },
   "outputs": [
    {
     "name": "stdout",
     "output_type": "stream",
     "text": [
      "Epoch 1/3\n",
      "87/87 [==============================] - 5s 48ms/step - loss: 0.6573 - accuracy: 0.5955 - val_loss: 0.5375 - val_accuracy: 0.7312\n",
      "Epoch 2/3\n",
      "87/87 [==============================] - 4s 43ms/step - loss: 0.4542 - accuracy: 0.7751 - val_loss: 0.4897 - val_accuracy: 0.7688\n",
      "Epoch 3/3\n",
      "87/87 [==============================] - 4s 43ms/step - loss: 0.3599 - accuracy: 0.8323 - val_loss: 0.4662 - val_accuracy: 0.7789\n"
     ]
    }
   ],
   "source": [
    "history = ffnn50.fit(X_train, y_train,\n",
    "                    batch_size=64,\n",
    "                    epochs=3,\n",
    "                    verbose=1,\n",
    "                    shuffle=True,\n",
    "                    validation_data=(x_val, y_val))"
   ]
  },
  {
   "cell_type": "code",
   "execution_count": null,
   "metadata": {
    "colab": {
     "base_uri": "https://localhost:8080/"
    },
    "id": "aBWSWAmSlu79",
    "outputId": "7e5b79d8-90e5-47b1-b290-265417da5ded"
   },
   "outputs": [
    {
     "name": "stdout",
     "output_type": "stream",
     "text": [
      "173/173 [==============================] - 2s 8ms/step - loss: 0.2647 - accuracy: 0.9008\n",
      "Training Accuracy: 0.9008\n"
     ]
    }
   ],
   "source": [
    "loss, accuracy = ffnn50.evaluate(X_train, y_train, verbose=1)\n",
    "print(\"Training Accuracy: {:.4f}\".format(accuracy))"
   ]
  },
  {
   "cell_type": "code",
   "execution_count": null,
   "metadata": {
    "colab": {
     "base_uri": "https://localhost:8080/"
    },
    "id": "BkqpduDQxpJr",
    "outputId": "52f9b5c2-2144-4d75-8e5c-256d998bee4c"
   },
   "outputs": [
    {
     "name": "stdout",
     "output_type": "stream",
     "text": [
      "28/28 [==============================] - 0s 9ms/step - loss: 0.4690 - accuracy: 0.7890\n",
      "Testing Accuracy:  0.7890\n"
     ]
    }
   ],
   "source": [
    "loss, accuracy = ffnn50.evaluate(X_test, y_test, verbose=1)\n",
    "print(\"Testing Accuracy:  {:.4f}\".format(accuracy))"
   ]
  },
  {
   "cell_type": "markdown",
   "metadata": {
    "id": "xDcd3GjBODCs"
   },
   "source": [
    "# Bidirectional LSTM "
   ]
  },
  {
   "cell_type": "code",
   "execution_count": null,
   "metadata": {
    "id": "sYTSbzaQTRrs"
   },
   "outputs": [],
   "source": [
    "X_test, y_test = X_te, np.array(y_te)"
   ]
  },
  {
   "cell_type": "code",
   "execution_count": null,
   "metadata": {
    "id": "3nlPiJmwAjG1"
   },
   "outputs": [],
   "source": [
    "from keras.backend import clear_session\n",
    "clear_session()"
   ]
  },
  {
   "cell_type": "code",
   "execution_count": null,
   "metadata": {
    "id": "xAzImoa--xZL"
   },
   "outputs": [],
   "source": [
    "# Build the model\n",
    "from tensorflow.keras.models import Sequential\n",
    "from tensorflow.keras.layers import LSTM\n",
    "from keras.models import Sequential\n",
    "from keras import layers\n",
    "from keras import regularizers"
   ]
  },
  {
   "cell_type": "code",
   "execution_count": null,
   "metadata": {
    "id": "N-3ZWXkKg3lD"
   },
   "outputs": [],
   "source": [
    "lstm = Sequential()\n",
    "# embedding_layer = Embedding(vocab_size, embedding_dim300, weights=[embedding_matrix300], input_length=maxlen, trainable=False)\n",
    "embedding_layer = Embedding(vocab_size, embedding_dim300, weights=[embedding_matrix300], input_length=maxlen)\n",
    "lstm.add(embedding_layer)\n",
    "lstm.add(layers.Bidirectional(layers.LSTM(units=64, dropout=0.6)))\n",
    "lstm.add(Dense(64, activation='relu'))\n",
    "lstm.add(Dropout(0.5))\n",
    "lstm.add(Dense(1, activation='sigmoid'))\n",
    "\n",
    "lstm.compile(loss='binary_crossentropy', optimizer='rmsprop', metrics=['accuracy'])"
   ]
  },
  {
   "cell_type": "code",
   "execution_count": null,
   "metadata": {
    "colab": {
     "base_uri": "https://localhost:8080/"
    },
    "id": "oS05EBx5qTT_",
    "outputId": "e3c5950d-6095-4ec7-9b7f-832fe7716997"
   },
   "outputs": [
    {
     "name": "stdout",
     "output_type": "stream",
     "text": [
      "Model: \"sequential_8\"\n",
      "_________________________________________________________________\n",
      "Layer (type)                 Output Shape              Param #   \n",
      "=================================================================\n",
      "module_wrapper_32 (ModuleWra (None, 1000, 300)         3670200   \n",
      "_________________________________________________________________\n",
      "bidirectional_8 (Bidirection (None, 128)               186880    \n",
      "_________________________________________________________________\n",
      "module_wrapper_33 (ModuleWra (None, 64)                8256      \n",
      "_________________________________________________________________\n",
      "module_wrapper_34 (ModuleWra (None, 64)                0         \n",
      "_________________________________________________________________\n",
      "module_wrapper_35 (ModuleWra (None, 1)                 65        \n",
      "=================================================================\n",
      "Total params: 3,865,401\n",
      "Trainable params: 3,865,401\n",
      "Non-trainable params: 0\n",
      "_________________________________________________________________\n"
     ]
    }
   ],
   "source": [
    "lstm.summary()"
   ]
  },
  {
   "cell_type": "code",
   "execution_count": null,
   "metadata": {
    "colab": {
     "base_uri": "https://localhost:8080/"
    },
    "id": "ysRIyPefqde_",
    "outputId": "d7052d20-1f12-4576-8595-be8eaa548065"
   },
   "outputs": [
    {
     "name": "stdout",
     "output_type": "stream",
     "text": [
      "Epoch 1/10\n",
      "87/87 [==============================] - 35s 153ms/step - loss: 0.6636 - accuracy: 0.5837 - val_loss: 0.5575 - val_accuracy: 0.7103\n",
      "Epoch 2/10\n",
      "87/87 [==============================] - 12s 142ms/step - loss: 0.5266 - accuracy: 0.7420 - val_loss: 0.4619 - val_accuracy: 0.7811\n",
      "Epoch 3/10\n",
      "87/87 [==============================] - 12s 142ms/step - loss: 0.4506 - accuracy: 0.7945 - val_loss: 0.4553 - val_accuracy: 0.7854\n",
      "Epoch 4/10\n",
      "87/87 [==============================] - 12s 143ms/step - loss: 0.4236 - accuracy: 0.8091 - val_loss: 0.4807 - val_accuracy: 0.7977\n",
      "Epoch 5/10\n",
      "87/87 [==============================] - 12s 143ms/step - loss: 0.3526 - accuracy: 0.8447 - val_loss: 0.5607 - val_accuracy: 0.7717\n",
      "Epoch 6/10\n",
      "87/87 [==============================] - 12s 141ms/step - loss: 0.3416 - accuracy: 0.8594 - val_loss: 0.4283 - val_accuracy: 0.8078\n",
      "Epoch 7/10\n",
      "87/87 [==============================] - 12s 141ms/step - loss: 0.2992 - accuracy: 0.8785 - val_loss: 0.5602 - val_accuracy: 0.7868\n",
      "Epoch 8/10\n",
      "87/87 [==============================] - 12s 141ms/step - loss: 0.2874 - accuracy: 0.8797 - val_loss: 0.4434 - val_accuracy: 0.7999\n",
      "Epoch 9/10\n",
      "87/87 [==============================] - 12s 142ms/step - loss: 0.2655 - accuracy: 0.8901 - val_loss: 0.4703 - val_accuracy: 0.8056\n",
      "Epoch 10/10\n",
      "87/87 [==============================] - 12s 142ms/step - loss: 0.2363 - accuracy: 0.9076 - val_loss: 0.4424 - val_accuracy: 0.8143\n"
     ]
    }
   ],
   "source": [
    "# fit network\n",
    "history = lstm.fit(X_train,\n",
    "                    y_train,\n",
    "                    epochs=10,\n",
    "                    batch_size=64,\n",
    "                    shuffle=True,\n",
    "                    validation_data=(x_val, y_val))"
   ]
  },
  {
   "cell_type": "code",
   "execution_count": null,
   "metadata": {
    "colab": {
     "base_uri": "https://localhost:8080/"
    },
    "id": "7EQ9sIeQ9hgo",
    "outputId": "d340a8fc-98a1-4837-e0e2-8f86a8c72e84"
   },
   "outputs": [
    {
     "name": "stdout",
     "output_type": "stream",
     "text": [
      "173/173 [==============================] - 7s 35ms/step - loss: 0.1541 - accuracy: 0.9408\n",
      "Training Accuracy: 0.9408\n"
     ]
    }
   ],
   "source": [
    "loss, accuracy = lstm.evaluate(X_train, y_train, verbose=1)\n",
    "print(\"Training Accuracy: {:.4f}\".format(accuracy))"
   ]
  },
  {
   "cell_type": "code",
   "execution_count": null,
   "metadata": {
    "id": "udNxIC2BBBuC"
   },
   "outputs": [],
   "source": [
    "X_test = tokenizer.texts_to_sequences(X_test)\n",
    "X_test = pad_sequences(X_test, padding='post', maxlen=maxlen)"
   ]
  },
  {
   "cell_type": "code",
   "execution_count": null,
   "metadata": {
    "colab": {
     "base_uri": "https://localhost:8080/"
    },
    "id": "qnMbIW4x9hhB",
    "outputId": "d26a4bb5-4266-4d9c-f2f3-0cc9d3fbc35e"
   },
   "outputs": [
    {
     "name": "stdout",
     "output_type": "stream",
     "text": [
      "28/28 [==============================] - 1s 41ms/step - loss: 0.4415 - accuracy: 0.8188\n",
      "Testing Accuracy:  0.8188\n"
     ]
    }
   ],
   "source": [
    "loss, accuracy = lstm.evaluate(X_test, y_test, verbose=1)\n",
    "print(\"Testing Accuracy:  {:.4f}\".format(accuracy))"
   ]
  },
  {
   "cell_type": "code",
   "execution_count": null,
   "metadata": {
    "colab": {
     "base_uri": "https://localhost:8080/",
     "height": 283
    },
    "id": "b7iTEEgt9hhC",
    "outputId": "30c60cff-8cd9-4b7d-b49d-2d67f40be2a3"
   },
   "outputs": [
    {
     "data": {
      "text/plain": [
       "<matplotlib.axes._subplots.AxesSubplot at 0x7fb050c7cf50>"
      ]
     },
     "execution_count": 101,
     "metadata": {
      "tags": []
     },
     "output_type": "execute_result"
    },
    {
     "data": {
      "image/png": "[encoded data removed]",
      "text/plain": [
       "<Figure size 432x288 with 1 Axes>"
      ]
     },
     "metadata": {
      "needs_background": "light",
      "tags": []
     },
     "output_type": "display_data"
    }
   ],
   "source": [
    "model_loss_history = pd.DataFrame({'loss': history.history['loss'],\n",
    "                                   'val_loss': history.history['val_loss']})\n",
    "model_loss_history.plot()"
   ]
  },
  {
   "cell_type": "code",
   "execution_count": null,
   "metadata": {
    "colab": {
     "base_uri": "https://localhost:8080/",
     "height": 283
    },
    "id": "z3_8H9WT9hhD",
    "outputId": "2d960db2-9afb-4c21-d0ad-891abab8b69b"
   },
   "outputs": [
    {
     "data": {
      "text/plain": [
       "<matplotlib.axes._subplots.AxesSubplot at 0x7fb050b89c50>"
      ]
     },
     "execution_count": 102,
     "metadata": {
      "tags": []
     },
     "output_type": "execute_result"
    },
    {
     "data": {
      "image/png": "[encoded data removed]",
      "text/plain": [
       "<Figure size 432x288 with 1 Axes>"
      ]
     },
     "metadata": {
      "needs_background": "light",
      "tags": []
     },
     "output_type": "display_data"
    }
   ],
   "source": [
    "model_accuracy_history = pd.DataFrame({'accuracy': history.history['accuracy'],\n",
    "                                       'val_accuracy': history.history['val_accuracy']})\n",
    "model_accuracy_history.plot()"
   ]
  },
  {
   "cell_type": "code",
   "execution_count": null,
   "metadata": {
    "id": "bKL9nI4zn5gz"
   },
   "outputs": [],
   "source": []
  },
  {
   "cell_type": "code",
   "execution_count": null,
   "metadata": {
    "id": "_nzqSjqRn6a3"
   },
   "outputs": [],
   "source": [
    "from keras.backend import clear_session\n",
    "clear_session()"
   ]
  },
  {
   "cell_type": "code",
   "execution_count": null,
   "metadata": {
    "id": "LcDZwr1gn6a4"
   },
   "outputs": [],
   "source": [
    "lstm2 = Sequential()\n",
    "# embedding_layer = Embedding(vocab_size, embedding_dim300, weights=[embedding_matrix300], input_length=maxlen, trainable=False)\n",
    "embedding_layer = Embedding(vocab_size, embedding_dim50, weights=[embedding_matrix50], input_length=maxlen)\n",
    "lstm2.add(embedding_layer)\n",
    "lstm2.add(layers.Bidirectional(layers.LSTM(units=64, dropout=0.6)))\n",
    "lstm2.add(Dense(64, activation='relu'))\n",
    "lstm2.add(Dropout(0.5))\n",
    "\n",
    "lstm2.add(Dense(1, activation='sigmoid'))\n",
    "\n",
    "lstm2.compile(loss='binary_crossentropy', optimizer='rmsprop', metrics=['accuracy'])"
   ]
  },
  {
   "cell_type": "code",
   "execution_count": null,
   "metadata": {
    "colab": {
     "base_uri": "https://localhost:8080/"
    },
    "id": "1e3icDYRn6a5",
    "outputId": "6edec871-347d-4f33-e517-ca2bcbc1c325"
   },
   "outputs": [
    {
     "name": "stdout",
     "output_type": "stream",
     "text": [
      "Model: \"sequential_1\"\n",
      "_________________________________________________________________\n",
      "Layer (type)                 Output Shape              Param #   \n",
      "=================================================================\n",
      "module_wrapper_4 (ModuleWrap (None, 1000, 50)          611700    \n",
      "_________________________________________________________________\n",
      "bidirectional_1 (Bidirection (None, 128)               58880     \n",
      "_________________________________________________________________\n",
      "module_wrapper_5 (ModuleWrap (None, 64)                8256      \n",
      "_________________________________________________________________\n",
      "module_wrapper_6 (ModuleWrap (None, 64)                0         \n",
      "_________________________________________________________________\n",
      "module_wrapper_7 (ModuleWrap (None, 1)                 65        \n",
      "=================================================================\n",
      "Total params: 678,901\n",
      "Trainable params: 678,901\n",
      "Non-trainable params: 0\n",
      "_________________________________________________________________\n"
     ]
    }
   ],
   "source": [
    "lstm2.summary()"
   ]
  },
  {
   "cell_type": "code",
   "execution_count": null,
   "metadata": {
    "colab": {
     "base_uri": "https://localhost:8080/"
    },
    "id": "H6K_Q1ycn6a5",
    "outputId": "f45617e2-3dd2-42e0-c0ec-4a6bdb57171a"
   },
   "outputs": [
    {
     "name": "stdout",
     "output_type": "stream",
     "text": [
      "Epoch 1/10\n",
      "87/87 [==============================] - 13s 93ms/step - loss: 0.6821 - accuracy: 0.5521 - val_loss: 0.6250 - val_accuracy: 0.6640\n",
      "Epoch 2/10\n",
      "87/87 [==============================] - 7s 80ms/step - loss: 0.6166 - accuracy: 0.6698 - val_loss: 0.5752 - val_accuracy: 0.6908\n",
      "Epoch 3/10\n",
      "87/87 [==============================] - 7s 81ms/step - loss: 0.5871 - accuracy: 0.6944 - val_loss: 0.5524 - val_accuracy: 0.7110\n",
      "Epoch 4/10\n",
      "87/87 [==============================] - 7s 81ms/step - loss: 0.5667 - accuracy: 0.7086 - val_loss: 0.5532 - val_accuracy: 0.7168\n",
      "Epoch 5/10\n",
      "87/87 [==============================] - 7s 81ms/step - loss: 0.5453 - accuracy: 0.7261 - val_loss: 0.5120 - val_accuracy: 0.7392\n",
      "Epoch 6/10\n",
      "87/87 [==============================] - 7s 81ms/step - loss: 0.5248 - accuracy: 0.7337 - val_loss: 0.5368 - val_accuracy: 0.7384\n",
      "Epoch 7/10\n",
      "87/87 [==============================] - 7s 81ms/step - loss: 0.4955 - accuracy: 0.7658 - val_loss: 0.5087 - val_accuracy: 0.7507\n",
      "Epoch 8/10\n",
      "87/87 [==============================] - 7s 80ms/step - loss: 0.4862 - accuracy: 0.7651 - val_loss: 0.5273 - val_accuracy: 0.7421\n",
      "Epoch 9/10\n",
      "87/87 [==============================] - 7s 80ms/step - loss: 0.4800 - accuracy: 0.7626 - val_loss: 0.4761 - val_accuracy: 0.7673\n",
      "Epoch 10/10\n",
      "87/87 [==============================] - 7s 80ms/step - loss: 0.4655 - accuracy: 0.7815 - val_loss: 0.4717 - val_accuracy: 0.7825\n"
     ]
    }
   ],
   "source": [
    "# fit network\n",
    "history = lstm2.fit(X_train,\n",
    "                    y_train,\n",
    "                    epochs=10,\n",
    "                    batch_size=64,\n",
    "                    shuffle=True,\n",
    "                    validation_data=(x_val, y_val))"
   ]
  },
  {
   "cell_type": "code",
   "execution_count": null,
   "metadata": {
    "colab": {
     "base_uri": "https://localhost:8080/"
    },
    "id": "3RjGuu0en6a6",
    "outputId": "9433314a-1f48-4b18-ed46-9b82eebb6d10"
   },
   "outputs": [
    {
     "name": "stdout",
     "output_type": "stream",
     "text": [
      "173/173 [==============================] - 5s 26ms/step - loss: 0.3624 - accuracy: 0.8499\n",
      "Training Accuracy: 0.8499\n"
     ]
    }
   ],
   "source": [
    "loss, accuracy = lstm2.evaluate(X_train, y_train, verbose=1)\n",
    "print(\"Training Accuracy: {:.4f}\".format(accuracy))"
   ]
  },
  {
   "cell_type": "code",
   "execution_count": null,
   "metadata": {
    "colab": {
     "base_uri": "https://localhost:8080/"
    },
    "id": "iicXpgkon6a7",
    "outputId": "b02522b0-ffc8-4a0d-a8bc-3e3fd53d0852"
   },
   "outputs": [
    {
     "name": "stdout",
     "output_type": "stream",
     "text": [
      "28/28 [==============================] - 1s 30ms/step - loss: 0.4420 - accuracy: 0.7833\n",
      "Testing Accuracy:  0.7833\n"
     ]
    }
   ],
   "source": [
    "loss, accuracy = lstm2.evaluate(X_test, y_test, verbose=1)\n",
    "print(\"Testing Accuracy:  {:.4f}\".format(accuracy))"
   ]
  },
  {
   "cell_type": "code",
   "execution_count": null,
   "metadata": {
    "colab": {
     "base_uri": "https://localhost:8080/",
     "height": 283
    },
    "id": "Y6xMwgSCn6a8",
    "outputId": "bbca2a7c-865c-443a-dfd3-f9836dc73f4a"
   },
   "outputs": [
    {
     "data": {
      "text/plain": [
       "<matplotlib.axes._subplots.AxesSubplot at 0x7fb04e58e5d0>"
      ]
     },
     "execution_count": 110,
     "metadata": {
      "tags": []
     },
     "output_type": "execute_result"
    },
    {
     "data": {
      "image/png": "[encoded data removed]",
      "text/plain": [
       "<Figure size 432x288 with 1 Axes>"
      ]
     },
     "metadata": {
      "needs_background": "light",
      "tags": []
     },
     "output_type": "display_data"
    }
   ],
   "source": [
    "model_loss_history = pd.DataFrame({'loss': history.history['loss'],\n",
    "                                   'val_loss': history.history['val_loss']})\n",
    "model_loss_history.plot()"
   ]
  },
  {
   "cell_type": "code",
   "execution_count": null,
   "metadata": {
    "colab": {
     "base_uri": "https://localhost:8080/",
     "height": 283
    },
    "id": "lIO9hCbwn6a8",
    "outputId": "f1452235-3119-4f8d-d82e-094ef5d16d9a"
   },
   "outputs": [
    {
     "data": {
      "text/plain": [
       "<matplotlib.axes._subplots.AxesSubplot at 0x7fb04e595d50>"
      ]
     },
     "execution_count": 111,
     "metadata": {
      "tags": []
     },
     "output_type": "execute_result"
    },
    {
     "data": {
      "image/png": "[encoded data removed]",
      "text/plain": [
       "<Figure size 432x288 with 1 Axes>"
      ]
     },
     "metadata": {
      "needs_background": "light",
      "tags": []
     },
     "output_type": "display_data"
    }
   ],
   "source": [
    "model_accuracy_history = pd.DataFrame({'accuracy': history.history['accuracy'],\n",
    "                                       'val_accuracy': history.history['val_accuracy']})\n",
    "model_accuracy_history.plot()"
   ]
  }
 ],
 "metadata": {
  "accelerator": "GPU",
  "colab": {
   "collapsed_sections": [],
   "name": "Neural Networks for Sentiment Analysis.ipynb",
   "provenance": []
  },
  "kernelspec": {
   "display_name": "Python 3",
   "language": "python",
   "name": "python3"
  },
  "language_info": {
   "codemirror_mode": {
    "name": "ipython",
    "version": 3
   },
   "file_extension": ".py",
   "mimetype": "text/x-python",
   "name": "python",
   "nbconvert_exporter": "python",
   "pygments_lexer": "ipython3",
   "version": "3.7.9"
  }
 },
 "nbformat": 4,
 "nbformat_minor": 4
}
